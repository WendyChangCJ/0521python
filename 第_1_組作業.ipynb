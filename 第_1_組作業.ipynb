{
  "nbformat": 4,
  "nbformat_minor": 0,
  "metadata": {
    "colab": {
      "provenance": [],
      "include_colab_link": true
    },
    "kernelspec": {
      "name": "python3",
      "display_name": "Python 3"
    },
    "language_info": {
      "name": "python"
    }
  },
  "cells": [
    {
      "cell_type": "markdown",
      "metadata": {
        "id": "view-in-github",
        "colab_type": "text"
      },
      "source": [
        "<a href=\"https://colab.research.google.com/github/WendyChangCJ/0521python/blob/main/%E7%AC%AC_1_%E7%B5%84%E4%BD%9C%E6%A5%AD.ipynb\" target=\"_parent\"><img src=\"https://colab.research.google.com/assets/colab-badge.svg\" alt=\"Open In Colab\"/></a>"
      ]
    },
    {
      "cell_type": "markdown",
      "source": [
        "# 作業繳交資訊\n",
        "#### 請同學將作業下載成「第 n 組作業.ipynb」後上傳至[python作業繳交區表單](https://forms.gle/H2XP3vj8qhjN3rhX9)\n",
        "#### 每組只需上傳1份\n",
        "#### 作業可以討論，但請勿抄襲（借別人抄跟抄別人的都連坐罰）"
      ],
      "metadata": {
        "id": "2sXMHQC3CLKz"
      }
    },
    {
      "cell_type": "markdown",
      "source": [
        "# 分組資訊\n",
        "## 組別：1\n",
        "## 主題：變數:Industry 選項:Transportation\n",
        "## 組員名單（學號/姓名）：\n",
        "1. 410110598/張家榕\n",
        "2. 412351079/鄭伊岑\n",
        "3. 412351160/陳信妤\n",
        "4. 412351017/陳品臻\n",
        "5. 412351031/張以柔\n",
        "6. 411352571/關詠云\n",
        "\n",
        "……\n"
      ],
      "metadata": {
        "id": "4wlIPQCuZqnS"
      }
    },
    {
      "cell_type": "markdown",
      "source": [
        "# 資料集說明\n",
        "資料集來源：[ESG & Financial Performance Dataset](https://www.kaggle.com/datasets/shriyashjagtap/esg-and-financial-performance-dataset)\n",
        "\n",
        "欄位名稱及資料型態\n",
        "1. 公司代碼(CompanyID)：Object\n",
        "2. 產業(Industry)：Object\n",
        "3. 所在地區(Region)：Object\n",
        "4. 資料年份(Year)：int\n",
        "5. 年收入_百萬美元(Revenue)：float\n",
        "6. 邊際利潤(ProfitMargin)：float\n",
        "7. 市值_百萬美元(MarketCap)：float\n",
        "8. 年收成長率(GrowthRate)：float\n",
        "9. ESG總得分(ESG_Overall)：float\n",
        "10. 永續環境(ESG_Environmental)：float\n",
        "11. 社會責任(ESG_Social)：float\n",
        "12. 公司治理(ESG_Governance)：float\n",
        "13. 二氧化碳排放量(CarbonEmissions)：float\n",
        "14. 用水量(WaterUsage)：float\n",
        "15. 能源消費(EnergyConsumption)：float"
      ],
      "metadata": {
        "id": "hZaYcF9DZlEe"
      }
    },
    {
      "cell_type": "markdown",
      "source": [
        "# 第一題、匯入資料集(17% = 4% + 4% + 9%)\n",
        "#### (1)利用input指令讓使用者自行輸入已共享google試算表的連結代碼（變數名稱為ID）以取得後續資料\n",
        "#### (2)將抓取google試算表的下載網址定義成一個字串變數(Filename)\n",
        "#### (3)利用pandas中的read_excel分別讀入「Financial_Data」、「ESG_Score」、「OTHERS」三張頁籤的資料（工作表名稱即為資料集的變數名稱）"
      ],
      "metadata": {
        "id": "VDB5WfN3jMBc"
      }
    },
    {
      "cell_type": "code",
      "source": [
        "from google.colab import drive\n",
        "drive.mount('/content/drive')"
      ],
      "metadata": {
        "id": "vmBux5Y1YHs7",
        "colab": {
          "base_uri": "https://localhost:8080/"
        },
        "outputId": "b116c94f-97d0-484a-d658-6e12767b554d"
      },
      "execution_count": null,
      "outputs": [
        {
          "output_type": "stream",
          "name": "stdout",
          "text": [
            "Drive already mounted at /content/drive; to attempt to forcibly remount, call drive.mount(\"/content/drive\", force_remount=True).\n"
          ]
        }
      ]
    },
    {
      "cell_type": "code",
      "source": [
        "import pandas as pd\n",
        "df_Share=pd.read_excel(\"https://drive.google.com/uc?id=1XAL02M0dG89EOnTfzwhqjS2zAzI5SS9Y&export=download\",header=0)\n",
        "print(df_Share)"
      ],
      "metadata": {
        "id": "EJpKPNz_fAHO",
        "colab": {
          "base_uri": "https://localhost:8080/"
        },
        "outputId": "27fbb59a-5b62-43c7-822c-f8c2b1be06ae"
      },
      "execution_count": null,
      "outputs": [
        {
          "output_type": "stream",
          "name": "stdout",
          "text": [
            "     CompanyID        Industry         Region  Year  Revenue  ProfitMargin  \\\n",
            "0            1          Retail  Latin America  2025    734.5           5.0   \n",
            "1            2          Retail           Asia  2025   4371.5          -2.4   \n",
            "2            3  Transportation  Latin America  2025    479.8          11.6   \n",
            "3            4      Technology         Africa  2025   7675.6          22.9   \n",
            "4            5         Finance    Middle East  2025   3162.1          22.4   \n",
            "..         ...             ...            ...   ...      ...           ...   \n",
            "995        996      Healthcare         Europe  2025   5503.9          20.3   \n",
            "996        997       Utilities         Africa  2025    642.9          10.2   \n",
            "997        998      Healthcare        Oceania  2025   2042.3          29.8   \n",
            "998        999         Finance           Asia  2025   5700.3          21.6   \n",
            "999       1000  Consumer Goods  Latin America  2025   3173.5          17.5   \n",
            "\n",
            "     MarketCap  GrowthRate  ESG_Overall  ESG_Environmental  ESG_Social  \\\n",
            "0        628.8         6.9         59.2               70.7        29.1   \n",
            "1      20376.3        14.4         66.3               65.8        62.8   \n",
            "2       1020.7         9.5         34.3               24.4        43.7   \n",
            "3      42400.4        17.1         64.1              100.0        65.4   \n",
            "4       6674.6        -3.7         48.0               82.1        18.7   \n",
            "..         ...         ...          ...                ...         ...   \n",
            "995    25775.5        -7.0         60.4               91.3        32.9   \n",
            "996      818.5         1.3         66.7               49.5        91.4   \n",
            "997    12788.3        11.1         65.6              100.0        31.7   \n",
            "998    19402.0         4.3         53.1              100.0        16.2   \n",
            "999     5666.1        -0.3         51.8               74.5        39.7   \n",
            "\n",
            "     ESG_Governance  CarbonEmissions  WaterUsage  EnergyConsumption  \n",
            "0              78.0          51805.8     25902.9           103611.7  \n",
            "1              70.3         323282.0    161641.0           646564.1  \n",
            "2              34.9         296242.0     49373.7           987473.3  \n",
            "3              27.0         191891.1    115134.7           383782.3  \n",
            "4              43.3          39561.3     19780.6            98903.2  \n",
            "..              ...              ...         ...                ...  \n",
            "995            56.9         308688.0    308688.0           617376.0  \n",
            "996            59.2         439038.9    274399.3          4390388.8  \n",
            "997            65.2         102112.6    102112.6           204225.2  \n",
            "998            43.1          57003.4     28501.7           142508.6  \n",
            "999            41.4         430741.6    538427.0          2153707.9  \n",
            "\n",
            "[1000 rows x 15 columns]\n"
          ]
        }
      ]
    },
    {
      "cell_type": "markdown",
      "source": [
        "# 第二題、合併資料集（用pd.merge 或 pd.concat）(5%)\n",
        "#### 請將上面三個資料集（Financial_Data、ESG_Score、OTHERS）合併成一個資料集(Company_ESG)"
      ],
      "metadata": {
        "id": "2n7646ayoJts"
      }
    },
    {
      "cell_type": "code",
      "source": [
        "import pandas as pd\n",
        "\n",
        "#輸入Google試算表ID（可以改成input()）\n",
        "ID = \"1-33psVHBPkX36pjnCAtajtqO3_p8Rv6q\"\n",
        "Filename = f\"https://docs.google.com/spreadsheets/d/{ID}/export?format=xlsx\"\n",
        "\n",
        "#使用openpyxl引擎讀取三張工作表\n",
        "Financial_Data = pd.read_excel(Filename, sheet_name=\"Financial_Data\", engine=\"openpyxl\")\n",
        "ESG_Score = pd.read_excel(Filename, sheet_name=\"ESG_Score\", engine=\"openpyxl\")\n",
        "OTHERS = pd.read_excel(Filename, sheet_name=\"OTHERS\", engine=\"openpyxl\")"
      ],
      "metadata": {
        "id": "AozysAtjhh88"
      },
      "execution_count": null,
      "outputs": []
    },
    {
      "cell_type": "code",
      "source": [
        "#只保留ESG_Score和OTHERS中非重複的CompanyID欄位\n",
        "ESG_Score_filtered = ESG_Score.drop(columns=[\"ESG_Overall\", \"ESG_Environmental\", \"ESG_Social\", \"ESG_Governance\"])\n",
        "OTHERS_filtered = OTHERS.drop(columns=[\"CarbonEmissions\", \"WaterUsage\", \"EnergyConsumption\"])\n",
        "\n",
        "#先合併Financial_Data和ESG_Score_filtered\n",
        "df_merge1 = pd.merge(Financial_Data, ESG_Score_filtered, on=\"CompanyID\", how=\"outer\")\n",
        "\n",
        "#再合併OTHERS_filtered\n",
        "Company_ESG = pd.merge(df_merge1, OTHERS_filtered, on=\"CompanyID\", how=\"outer\")\n",
        "\n",
        "print(\"✅ 合併完成的 Company_ESG 欄位：\")\n",
        "print(Company_ESG.columns)\n",
        "print(Company_ESG.head())"
      ],
      "metadata": {
        "id": "pxb4iEUXhN9t",
        "colab": {
          "base_uri": "https://localhost:8080/"
        },
        "outputId": "674460e2-3f6f-4b86-d8f6-f38caface2dc"
      },
      "execution_count": null,
      "outputs": [
        {
          "output_type": "stream",
          "name": "stdout",
          "text": [
            "✅ 合併完成的 Company_ESG 欄位：\n",
            "Index(['CompanyID', 'Industry', 'Region', 'Year', 'Revenue', 'ProfitMargin',\n",
            "       'MarketCap', 'GrowthRate', 'ESG_Overall', 'ESG_Environmental',\n",
            "       'ESG_Social', 'ESG_Governance', 'CarbonEmissions', 'WaterUsage',\n",
            "       'EnergyConsumption'],\n",
            "      dtype='object')\n",
            "   CompanyID        Industry         Region  Year  Revenue  ProfitMargin  \\\n",
            "0          1          Retail  Latin America  2025    734.5           5.0   \n",
            "1          2          Retail           Asia  2025   4371.5          -2.4   \n",
            "2          3  Transportation  Latin America  2025    479.8          11.6   \n",
            "3          4      Technology         Africa  2025   7675.6          22.9   \n",
            "4          5         Finance    Middle East  2025   3162.1          22.4   \n",
            "\n",
            "   MarketCap  GrowthRate  ESG_Overall  ESG_Environmental  ESG_Social  \\\n",
            "0      628.8         6.9         59.2               70.7        29.1   \n",
            "1    20376.3        14.4         66.3               65.8        62.8   \n",
            "2     1020.7         9.5         34.3               24.4        43.7   \n",
            "3    42400.4        17.1         64.1              100.0        65.4   \n",
            "4     6674.6        -3.7         48.0               82.1        18.7   \n",
            "\n",
            "   ESG_Governance  CarbonEmissions  WaterUsage  EnergyConsumption  \n",
            "0            78.0          51805.8     25902.9           103611.7  \n",
            "1            70.3         323282.0    161641.0           646564.1  \n",
            "2            34.9         296242.0     49373.7           987473.3  \n",
            "3            27.0         191891.1    115134.7           383782.3  \n",
            "4            43.3          39561.3     19780.6            98903.2  \n"
          ]
        }
      ]
    },
    {
      "cell_type": "markdown",
      "source": [
        "# 第三題、確認資料型態(10%)\n",
        "#### 請用info()確認「資料集Company_ESG」的資料型態是否符合上述資料集說明中的定義，如果不符合，請轉成適合的型別，再存回「資料集Company_ESG」中。"
      ],
      "metadata": {
        "id": "vxBd5z6appiD"
      }
    },
    {
      "cell_type": "code",
      "source": [
        "#檢查Company_ESG資料型別\n",
        "Company_ESG.info()"
      ],
      "metadata": {
        "id": "sGBEwoBmh100",
        "colab": {
          "base_uri": "https://localhost:8080/"
        },
        "outputId": "e1cd416c-888f-43c3-e132-68b2b7e7ccf2"
      },
      "execution_count": null,
      "outputs": [
        {
          "output_type": "stream",
          "name": "stdout",
          "text": [
            "<class 'pandas.core.frame.DataFrame'>\n",
            "RangeIndex: 1000 entries, 0 to 999\n",
            "Data columns (total 15 columns):\n",
            " #   Column             Non-Null Count  Dtype  \n",
            "---  ------             --------------  -----  \n",
            " 0   CompanyID          1000 non-null   int64  \n",
            " 1   Industry           1000 non-null   object \n",
            " 2   Region             1000 non-null   object \n",
            " 3   Year               1000 non-null   int64  \n",
            " 4   Revenue            1000 non-null   float64\n",
            " 5   ProfitMargin       1000 non-null   float64\n",
            " 6   MarketCap          1000 non-null   float64\n",
            " 7   GrowthRate         1000 non-null   float64\n",
            " 8   ESG_Overall        1000 non-null   float64\n",
            " 9   ESG_Environmental  1000 non-null   float64\n",
            " 10  ESG_Social         1000 non-null   float64\n",
            " 11  ESG_Governance     1000 non-null   float64\n",
            " 12  CarbonEmissions    1000 non-null   float64\n",
            " 13  WaterUsage         1000 non-null   float64\n",
            " 14  EnergyConsumption  1000 non-null   float64\n",
            "dtypes: float64(11), int64(2), object(2)\n",
            "memory usage: 117.3+ KB\n"
          ]
        }
      ]
    },
    {
      "cell_type": "code",
      "source": [
        "#將CompanyID轉為字串\n",
        "Company_ESG[\"CompanyID\"] = Company_ESG[\"CompanyID\"].astype(str)\n",
        "\n",
        "#將Year轉為整數，若有缺值會先填補或轉為float再處理\n",
        "Company_ESG[\"Year\"] = pd.to_numeric(Company_ESG[\"Year\"], errors=\"coerce\").astype(\"Int64\")\n",
        "\n",
        "#將所有數值欄位轉為float（可根據實際欄位調整）\n",
        "float_columns = [\n",
        "    'Revenue', 'ProfitMargin', 'MarketCap', 'GrowthRate',\n",
        "    'ESG_Overall', 'ESG_Environmental', 'ESG_Social', 'ESG_Governance',\n",
        "    'CarbonEmissions', 'WaterUsage', 'EnergyConsumption'\n",
        "]\n",
        "\n",
        "for col in float_columns:\n",
        "    if col in Company_ESG.columns:\n",
        "        Company_ESG[col] = pd.to_numeric(Company_ESG[col], errors=\"coerce\")"
      ],
      "metadata": {
        "id": "DaQxwv0qh47r"
      },
      "execution_count": null,
      "outputs": []
    },
    {
      "cell_type": "code",
      "source": [
        "Company_ESG.info()"
      ],
      "metadata": {
        "id": "QWRcP0DGh68a",
        "colab": {
          "base_uri": "https://localhost:8080/"
        },
        "outputId": "a52d72f1-d6e8-49bc-bbd4-c80e560748a4"
      },
      "execution_count": null,
      "outputs": [
        {
          "output_type": "stream",
          "name": "stdout",
          "text": [
            "<class 'pandas.core.frame.DataFrame'>\n",
            "RangeIndex: 1000 entries, 0 to 999\n",
            "Data columns (total 15 columns):\n",
            " #   Column             Non-Null Count  Dtype  \n",
            "---  ------             --------------  -----  \n",
            " 0   CompanyID          1000 non-null   object \n",
            " 1   Industry           1000 non-null   object \n",
            " 2   Region             1000 non-null   object \n",
            " 3   Year               1000 non-null   Int64  \n",
            " 4   Revenue            1000 non-null   float64\n",
            " 5   ProfitMargin       1000 non-null   float64\n",
            " 6   MarketCap          1000 non-null   float64\n",
            " 7   GrowthRate         1000 non-null   float64\n",
            " 8   ESG_Overall        1000 non-null   float64\n",
            " 9   ESG_Environmental  1000 non-null   float64\n",
            " 10  ESG_Social         1000 non-null   float64\n",
            " 11  ESG_Governance     1000 non-null   float64\n",
            " 12  CarbonEmissions    1000 non-null   float64\n",
            " 13  WaterUsage         1000 non-null   float64\n",
            " 14  EnergyConsumption  1000 non-null   float64\n",
            "dtypes: Int64(1), float64(11), object(3)\n",
            "memory usage: 118.3+ KB\n"
          ]
        }
      ]
    },
    {
      "cell_type": "markdown",
      "source": [
        "# 第四題、刪除特定資料(5%)\n",
        "#### 因此資料皆為2025年的資料，所以「資料集Company_ESG」中的year皆相同，無區別性，故請用drop()將此year刪除，並存回「資料集Company_ESG」的year中"
      ],
      "metadata": {
        "id": "Oyzg5pRjqk0L"
      }
    },
    {
      "cell_type": "code",
      "source": [
        "Company_ESG = Company_ESG.drop(columns=[\"Year\"])"
      ],
      "metadata": {
        "id": "PPfYQpWEiVHN"
      },
      "execution_count": null,
      "outputs": []
    },
    {
      "cell_type": "code",
      "source": [
        "print(Company_ESG.columns)"
      ],
      "metadata": {
        "id": "po0FiDy6iW1L",
        "colab": {
          "base_uri": "https://localhost:8080/"
        },
        "outputId": "e7019698-37b3-44d4-e71b-cf6003969bb0"
      },
      "execution_count": null,
      "outputs": [
        {
          "output_type": "stream",
          "name": "stdout",
          "text": [
            "Index(['CompanyID', 'Industry', 'Region', 'Revenue', 'ProfitMargin',\n",
            "       'MarketCap', 'GrowthRate', 'ESG_Overall', 'ESG_Environmental',\n",
            "       'ESG_Social', 'ESG_Governance', 'CarbonEmissions', 'WaterUsage',\n",
            "       'EnergyConsumption'],\n",
            "      dtype='object')\n"
          ]
        }
      ]
    },
    {
      "cell_type": "markdown",
      "source": [
        "# 第五題、欄位名稱變更及重新定義資料集索引(10%)\n",
        "#### (1)請用rename將「CompanyID」更名為「ID」，以及「CarbonEmissions」更名為「CO2排放量」，並存回「資料集Company_ESG」中\n",
        "#### (2)請用set_index將ID定義為「資料集Company_ESG」的索引"
      ],
      "metadata": {
        "id": "8utGOJWFsJ_X"
      }
    },
    {
      "cell_type": "code",
      "source": [
        "Company_ESG = Company_ESG.rename(columns={\n",
        "    \"CompanyID\": \"ID\",\n",
        "    \"CarbonEmissions\": \"CO2排放量\"\n",
        "})"
      ],
      "metadata": {
        "id": "71jLy2I3ix1k"
      },
      "execution_count": null,
      "outputs": []
    },
    {
      "cell_type": "code",
      "source": [
        "Company_ESG = Company_ESG.set_index(\"ID\")"
      ],
      "metadata": {
        "id": "x2NPRoBpjG0l",
        "colab": {
          "base_uri": "https://localhost:8080/",
          "height": 263
        },
        "outputId": "fed44af3-5723-45ee-8006-62a86d11cd2b"
      },
      "execution_count": null,
      "outputs": [
        {
          "output_type": "error",
          "ename": "KeyError",
          "evalue": "\"None of ['ID'] are in the columns\"",
          "traceback": [
            "\u001b[0;31m---------------------------------------------------------------------------\u001b[0m",
            "\u001b[0;31mKeyError\u001b[0m                                  Traceback (most recent call last)",
            "\u001b[0;32m<ipython-input-52-145b527ac3b3>\u001b[0m in \u001b[0;36m<cell line: 0>\u001b[0;34m()\u001b[0m\n\u001b[0;32m----> 1\u001b[0;31m \u001b[0mCompany_ESG\u001b[0m \u001b[0;34m=\u001b[0m \u001b[0mCompany_ESG\u001b[0m\u001b[0;34m.\u001b[0m\u001b[0mset_index\u001b[0m\u001b[0;34m(\u001b[0m\u001b[0;34m\"ID\"\u001b[0m\u001b[0;34m)\u001b[0m\u001b[0;34m\u001b[0m\u001b[0;34m\u001b[0m\u001b[0m\n\u001b[0m",
            "\u001b[0;32m/usr/local/lib/python3.11/dist-packages/pandas/core/frame.py\u001b[0m in \u001b[0;36mset_index\u001b[0;34m(self, keys, drop, append, inplace, verify_integrity)\u001b[0m\n\u001b[1;32m   6120\u001b[0m \u001b[0;34m\u001b[0m\u001b[0m\n\u001b[1;32m   6121\u001b[0m         \u001b[0;32mif\u001b[0m \u001b[0mmissing\u001b[0m\u001b[0;34m:\u001b[0m\u001b[0;34m\u001b[0m\u001b[0;34m\u001b[0m\u001b[0m\n\u001b[0;32m-> 6122\u001b[0;31m             \u001b[0;32mraise\u001b[0m \u001b[0mKeyError\u001b[0m\u001b[0;34m(\u001b[0m\u001b[0;34mf\"None of {missing} are in the columns\"\u001b[0m\u001b[0;34m)\u001b[0m\u001b[0;34m\u001b[0m\u001b[0;34m\u001b[0m\u001b[0m\n\u001b[0m\u001b[1;32m   6123\u001b[0m \u001b[0;34m\u001b[0m\u001b[0m\n\u001b[1;32m   6124\u001b[0m         \u001b[0;32mif\u001b[0m \u001b[0minplace\u001b[0m\u001b[0;34m:\u001b[0m\u001b[0;34m\u001b[0m\u001b[0;34m\u001b[0m\u001b[0m\n",
            "\u001b[0;31mKeyError\u001b[0m: \"None of ['ID'] are in the columns\""
          ]
        }
      ]
    },
    {
      "cell_type": "code",
      "source": [
        "print(Company_ESG.head())\n",
        "print(\"目前索引為：\", Company_ESG.index.name)"
      ],
      "metadata": {
        "id": "1lZGgxRRjsAs",
        "colab": {
          "base_uri": "https://localhost:8080/"
        },
        "outputId": "d012ad0e-ae02-45e5-ca6f-131ab1087d40"
      },
      "execution_count": null,
      "outputs": [
        {
          "output_type": "stream",
          "name": "stdout",
          "text": [
            "  CompanyID        Industry         Region  Revenue  ProfitMargin  MarketCap  \\\n",
            "0         1          Retail  Latin America    734.5           5.0      628.8   \n",
            "1         2          Retail           Asia   4371.5          -2.4    20376.3   \n",
            "2         3  Transportation  Latin America    479.8          11.6     1020.7   \n",
            "3         4      Technology         Africa   7675.6          22.9    42400.4   \n",
            "4         5         Finance    Middle East   3162.1          22.4     6674.6   \n",
            "\n",
            "   GrowthRate  ESG_Overall  ESG_Environmental  ESG_Social  ESG_Governance  \\\n",
            "0         6.9         59.2               70.7        29.1            78.0   \n",
            "1        14.4         66.3               65.8        62.8            70.3   \n",
            "2         9.5         34.3               24.4        43.7            34.9   \n",
            "3        17.1         64.1              100.0        65.4            27.0   \n",
            "4        -3.7         48.0               82.1        18.7            43.3   \n",
            "\n",
            "   CarbonEmissions  WaterUsage  EnergyConsumption  \n",
            "0          51805.8     25902.9           103611.7  \n",
            "1         323282.0    161641.0           646564.1  \n",
            "2         296242.0     49373.7           987473.3  \n",
            "3         191891.1    115134.7           383782.3  \n",
            "4          39561.3     19780.6            98903.2  \n",
            "目前索引為： None\n"
          ]
        }
      ]
    },
    {
      "cell_type": "markdown",
      "source": [
        "# 第六題、資料排序(5%)\n",
        "#### 請將「資料集Company_ESG」的資料依ESG_Overall大小由大至小排序，並將排序結果回存至「資料集Company_ESG」中"
      ],
      "metadata": {
        "id": "2FV5WpQ-y_Ni"
      }
    },
    {
      "cell_type": "code",
      "source": [
        "Company_ESG = Company_ESG.sort_values(by=\"ESG_Overall\", ascending=False)"
      ],
      "metadata": {
        "id": "aHt6dOVguBFc"
      },
      "execution_count": null,
      "outputs": []
    },
    {
      "cell_type": "code",
      "source": [
        "print(Company_ESG.head()) #顯示前幾行，檢查排序是否正確"
      ],
      "metadata": {
        "id": "hFh5WkuwuFZ1",
        "colab": {
          "base_uri": "https://localhost:8080/"
        },
        "outputId": "6394bf5c-e11f-48d1-bc9e-2510a51ff8b5"
      },
      "execution_count": null,
      "outputs": [
        {
          "output_type": "stream",
          "name": "stdout",
          "text": [
            "           Industry         Region  Revenue  ProfitMargin  MarketCap  \\\n",
            "ID                                                                     \n",
            "478         Finance         Europe  11483.5           7.9    15330.3   \n",
            "870         Finance  Latin America  10588.4           2.0     2859.0   \n",
            "472      Healthcare         Europe   4953.8          14.2     9569.8   \n",
            "157  Consumer Goods         Europe   6055.5          23.8    21083.4   \n",
            "378      Technology        Oceania   2554.2          36.6    27445.4   \n",
            "\n",
            "     GrowthRate  ESG_Overall  ESG_Environmental  ESG_Social  ESG_Governance  \\\n",
            "ID                                                                            \n",
            "478         0.5         98.0              100.0       100.0            94.0   \n",
            "870        10.0         96.0              100.0        93.3            94.7   \n",
            "472        14.4         95.6               96.5        99.2            91.3   \n",
            "157        -1.0         95.4               99.1       100.0            87.2   \n",
            "378         0.8         95.3               91.3        98.8            95.8   \n",
            "\n",
            "       CO2排放量  WaterUsage  EnergyConsumption  \n",
            "ID                                            \n",
            "478  114835.2     57417.6           287088.0  \n",
            "870  105884.1     52942.1           264710.3  \n",
            "472  259802.9    259802.9           519605.9  \n",
            "157  613051.8    766314.8          3065259.2  \n",
            "378   71639.1     42983.5           143278.2  \n"
          ]
        }
      ]
    },
    {
      "cell_type": "markdown",
      "source": [
        "# 第七題、重新定義變數涵意及新增變數(18% = 3% + 10% + 5%)\n",
        "#### (1)建立一個空的list變數(New_Group)\n",
        "#### (2)利用for迴圈及ifelse判斷式將「資料集Company_ESG」中的ESG_Overall重新定義成3組別：\n",
        "- 小於60分(不含60)\n",
        "- 60-80分(不含80)\n",
        "- 80分以上\n",
        "\n",
        "#### (3)在「資料集Company_ESG」中新增一個欄位為「ESG成績分組」。"
      ],
      "metadata": {
        "id": "kXmLaZd3tk1i"
      }
    },
    {
      "cell_type": "code",
      "source": [
        "New_Group = []"
      ],
      "metadata": {
        "id": "8-Xb8ByuuI0M"
      },
      "execution_count": null,
      "outputs": []
    },
    {
      "cell_type": "code",
      "source": [
        "#使用for迴圈遍歷每一筆資料\n",
        "for score in Company_ESG[\"ESG_Overall\"]:\n",
        "    if score < 60:\n",
        "        New_Group.append(\"小於60分\")\n",
        "    elif 60 <= score < 80:\n",
        "        New_Group.append(\"60-80分\")\n",
        "    else:\n",
        "        New_Group.append(\"80分以上\")"
      ],
      "metadata": {
        "id": "JHytwnMQuJgk"
      },
      "execution_count": null,
      "outputs": []
    },
    {
      "cell_type": "code",
      "source": [
        "#將分組結果加入資料集中的新欄位\n",
        "Company_ESG[\"ESG成績分組\"] = New_Group"
      ],
      "metadata": {
        "id": "k795UUecuOej"
      },
      "execution_count": null,
      "outputs": []
    },
    {
      "cell_type": "markdown",
      "source": [
        "# 第八題、資料篩選(loc)(10%)\n",
        "#### 依分組名單中的主題選取符合主題條件的列資料，以及須保留以下欄位，並另存成「資料集ESG_NumericData」：\n",
        "1. ESG_Overall\n",
        "2. ESG_Environmental\n",
        "3. ESG_Social\n",
        "4. ESG_Governance\n",
        "5. CO2排放量\n",
        "6. WaterUsage\n",
        "7. EnergyConsumption"
      ],
      "metadata": {
        "id": "WAvI9X2R0kPf"
      }
    },
    {
      "cell_type": "code",
      "source": [
        "#選取Industry欄位為\"Transportation\"的資料\n",
        "Transportation_Data = Company_ESG[Company_ESG[\"Industry\"] == \"Transportation\"]\n",
        "\n",
        "#選取需要保留的欄位\n",
        "columns_to_keep = [\n",
        "    \"ESG_Overall\", \"ESG_Environmental\", \"ESG_Social\", \"ESG_Governance\",\n",
        "    \"CO2排放量\", \"WaterUsage\", \"EnergyConsumption\"\n",
        "]\n",
        "\n",
        "#根據選定的欄位創建新的資料集 ESG_NumericData\n",
        "ESG_NumericData = Transportation_Data[columns_to_keep]\n",
        "\n",
        "#顯示新的資料集（可選）\n",
        "print(ESG_NumericData.head())"
      ],
      "metadata": {
        "id": "O-2JoAEwuRrd",
        "colab": {
          "base_uri": "https://localhost:8080/"
        },
        "outputId": "ff40b453-bcc0-457c-c523-f7ed5635d225"
      },
      "execution_count": null,
      "outputs": [
        {
          "output_type": "stream",
          "name": "stdout",
          "text": [
            "     ESG_Overall  ESG_Environmental  ESG_Social  ESG_Governance     CO2排放量  \\\n",
            "ID                                                                           \n",
            "393         81.2               85.5        58.1           100.0   428154.4   \n",
            "615         81.1               55.2        88.2           100.0   554879.2   \n",
            "675         80.8               71.6       100.0            70.9  1170266.7   \n",
            "318         77.7               68.9        84.5            79.6   274569.7   \n",
            "230         75.3               52.6        78.3            95.1   274250.4   \n",
            "\n",
            "     WaterUsage  EnergyConsumption  \n",
            "ID                                  \n",
            "393     71359.1          1427181.5  \n",
            "615     92479.9          1849597.5  \n",
            "675    195044.4          3900888.9  \n",
            "318     45761.6           915232.2  \n",
            "230     45708.4           914168.0  \n"
          ]
        }
      ]
    },
    {
      "cell_type": "markdown",
      "source": [
        "# 第九題、計算統計量(10% = 4% + 3% + 3%)\n",
        "#### 請以「資料集ESG_NumericData」計算：\n",
        "1. 所有欄位個別的平均數、標準差\n",
        "2. EnergyConsumption的中位數\n",
        "3. 所有變數的變異係數矩陣"
      ],
      "metadata": {
        "id": "3mPq5SCE6ySq"
      }
    },
    {
      "cell_type": "code",
      "source": [
        "import numpy as np\n",
        "\n",
        "#計算所有欄位的平均數\n",
        "mean_values = ESG_NumericData.mean()\n",
        "\n",
        "#計算所有欄位的標準差\n",
        "std_values = ESG_NumericData.std()\n",
        "\n",
        "#計算EnergyConsumption的中位數\n",
        "median_energy_consumption = ESG_NumericData[\"EnergyConsumption\"].median()\n",
        "\n",
        "#計算變異係數（CV）：標準差/平均數\n",
        "cv_values = std_values / mean_values\n",
        "\n",
        "#計算所有變數的變異係數矩陣\n",
        "#變異係數矩陣=每兩個變數的比值\n",
        "cv_matrix = pd.DataFrame(index=ESG_NumericData.columns, columns=ESG_NumericData.columns)\n",
        "\n",
        "for col1 in ESG_NumericData.columns:\n",
        "    for col2 in ESG_NumericData.columns:\n",
        "        cv_matrix.loc[col1, col2] = std_values[col1] / mean_values[col2]\n",
        "\n",
        "print(\"📊 所有欄位的平均數：\\n\", mean_values)\n",
        "print(\"\\n📊 所有欄位的標準差：\\n\", std_values)\n",
        "print(\"\\n📊 EnergyConsumption 的中位數：\", median_energy_consumption)\n",
        "print(\"\\n📊 變異係數矩陣：\\n\", cv_matrix)"
      ],
      "metadata": {
        "id": "SkTJjGcSuVMc",
        "colab": {
          "base_uri": "https://localhost:8080/"
        },
        "outputId": "fa3e4001-db42-40c0-a869-e62c3a28fa6e"
      },
      "execution_count": null,
      "outputs": [
        {
          "output_type": "stream",
          "name": "stdout",
          "text": [
            "📊 所有欄位的平均數：\n",
            " ESG_Overall          4.961026e+01\n",
            "ESG_Environmental    3.846154e+01\n",
            "ESG_Social           5.532821e+01\n",
            "ESG_Governance       5.504017e+01\n",
            "CO2排放量               8.397508e+05\n",
            "WaterUsage           1.399585e+05\n",
            "EnergyConsumption    2.799169e+06\n",
            "dtype: float64\n",
            "\n",
            "📊 所有欄位的標準差：\n",
            " ESG_Overall          1.494401e+01\n",
            "ESG_Environmental    1.874806e+01\n",
            "ESG_Social           2.434208e+01\n",
            "ESG_Governance       2.688086e+01\n",
            "CO2排放量               8.108976e+05\n",
            "WaterUsage           1.351496e+05\n",
            "EnergyConsumption    2.702992e+06\n",
            "dtype: float64\n",
            "\n",
            "📊 EnergyConsumption 的中位數： 1962615.8\n",
            "\n",
            "📊 變異係數矩陣：\n",
            "                     ESG_Overall ESG_Environmental    ESG_Social  \\\n",
            "ESG_Overall            0.301228          0.388544      0.270097   \n",
            "ESG_Environmental      0.377907          0.487449      0.338852   \n",
            "ESG_Social             0.490666          0.632894      0.439958   \n",
            "ESG_Governance         0.541841          0.698902      0.485844   \n",
            "CO2排放量             16345.361709      21083.337224  14656.133949   \n",
            "WaterUsage          2724.226947       3513.889531   2442.688987   \n",
            "EnergyConsumption   54484.53907      70277.790795  48853.779865   \n",
            "\n",
            "                  ESG_Governance    CO2排放量 WaterUsage EnergyConsumption  \n",
            "ESG_Overall             0.271511  0.000018   0.000107          0.000005  \n",
            "ESG_Environmental       0.340625  0.000022   0.000134          0.000007  \n",
            "ESG_Social               0.44226  0.000029   0.000174          0.000009  \n",
            "ESG_Governance          0.488386  0.000032   0.000192           0.00001  \n",
            "CO2排放量              14732.831888  0.965641   5.793845          0.289692  \n",
            "WaterUsage           2455.471977   0.16094   0.965641          0.048282  \n",
            "EnergyConsumption    49109.43966  3.218803  19.312816          0.965641  \n"
          ]
        }
      ]
    },
    {
      "cell_type": "markdown",
      "source": [
        "# 第十題、資料分組(groupby或pivot_table)(10% = 4% + 2% + 2% + 2%)\n",
        "#### 請以「資料集Company_ESG」的「ESG成績分組」欄位進行分組，分別計算各組之資料筆數及最大、最小值"
      ],
      "metadata": {
        "id": "EjLF5X9o8QVG"
      }
    },
    {
      "cell_type": "code",
      "source": [
        "#使用groupby()根據'ESG成績分組'進行分組\n",
        "grouped = Company_ESG.groupby(\"ESG成績分組\")\n",
        "\n",
        "#計算各組的資料筆數\n",
        "group_counts = grouped.size()\n",
        "\n",
        "#計算各組的最大值\n",
        "group_max = grouped.max()\n",
        "\n",
        "#計算各組的最小值\n",
        "group_min = grouped.min()\n",
        "\n",
        "print(\"📊 各分組的資料筆數：\\n\", group_counts)\n",
        "print(\"\\n📊 各分組的最大值：\\n\", group_max)\n",
        "print(\"\\n📊 各分組的最小值：\\n\", group_min)"
      ],
      "metadata": {
        "id": "0TlP79FruXw0",
        "colab": {
          "base_uri": "https://localhost:8080/"
        },
        "outputId": "419a9d16-56f7-4cd6-cf9a-5e928190157f"
      },
      "execution_count": null,
      "outputs": [
        {
          "output_type": "stream",
          "name": "stdout",
          "text": [
            "📊 各分組的資料筆數：\n",
            " ESG成績分組\n",
            "60-80分    379\n",
            "80分以上      79\n",
            "小於60分     542\n",
            "dtype: int64\n",
            "\n",
            "📊 各分組的最大值：\n",
            "           Industry   Region   Revenue  ProfitMargin  MarketCap  GrowthRate  \\\n",
            "ESG成績分組                                                                      \n",
            "60-80分   Utilities  Oceania  144823.6          50.0   821387.0        31.1   \n",
            "80分以上    Utilities  Oceania  134253.3          36.6   490286.1        22.0   \n",
            "小於60分    Utilities  Oceania  180810.4          50.0   578679.3        37.5   \n",
            "\n",
            "         ESG_Overall  ESG_Environmental  ESG_Social  ESG_Governance  \\\n",
            "ESG成績分組                                                               \n",
            "60-80分          79.9              100.0       100.0           100.0   \n",
            "80分以上           98.0              100.0       100.0           100.0   \n",
            "小於60分           59.8              100.0       100.0            96.9   \n",
            "\n",
            "              CO2排放量  WaterUsage  EnergyConsumption  \n",
            "ESG成績分組                                              \n",
            "60-80分    51147462.4  15344238.7       5.114746e+08  \n",
            "80分以上    108229578.1  32468873.4       1.082296e+09  \n",
            "小於60分    174104721.4  52231416.4       1.741047e+09  \n",
            "\n",
            "📊 各分組的最小值：\n",
            "                Industry  Region  Revenue  ProfitMargin  MarketCap  GrowthRate  \\\n",
            "ESG成績分組                                                                         \n",
            "60-80分   Consumer Goods  Africa     35.9         -20.0       15.7       -25.5   \n",
            "80分以上    Consumer Goods  Africa    438.0         -15.6       89.4       -10.3   \n",
            "小於60分    Consumer Goods  Africa    131.4         -20.0       17.5       -25.9   \n",
            "\n",
            "         ESG_Overall  ESG_Environmental  ESG_Social  ESG_Governance  CO2排放量  \\\n",
            "ESG成績分組                                                                       \n",
            "60-80分          60.0                8.9        15.3             4.0  2629.6   \n",
            "80分以上           80.2               55.2        52.1            46.3  6516.3   \n",
            "小於60分           14.3                5.4         0.0             1.0  4509.9   \n",
            "\n",
            "         WaterUsage  EnergyConsumption  \n",
            "ESG成績分組                                 \n",
            "60-80分       1314.8             6574.0  \n",
            "80分以上        3258.2            16290.9  \n",
            "小於60分        2255.0            11274.8  \n"
          ]
        }
      ]
    },
    {
      "cell_type": "markdown",
      "source": [
        "# 第十一題、請以「資料集Company_ESG」繪製以下統計圖表：(20%)\n",
        "1. ESG_Environmental的直方圖\n",
        "2. 以「Industry」為分組依據，ESG_Overall的盒形圖\n",
        "3. 以第十題中的「ESG成績分組」資料筆數的圓餅圖\n",
        "4. 「Revenue」及「EnergyConsumption」兩變數的散佈圖\n"
      ],
      "metadata": {
        "id": "xMMsGK1q-Cqz"
      }
    },
    {
      "cell_type": "code",
      "source": [
        "#先下載台北黑體字型\n",
        "# https://drive.google.com/uc?id=1eGAsTN1HBpJAkeVM57_C7ccp7hbgSz3_&export=download\n",
        "!wget -O taipei_sans_tc_beta.ttf https://drive.google.com/uc?id=1eGAsTN1HBpJAkeVM57_C7ccp7hbgSz3_&export=download\n",
        "\n",
        "#新增字體\n",
        "matplotlib.font_manager.fontManager.addfont('taipei_sans_tc_beta.ttf')"
      ],
      "metadata": {
        "id": "B1Jwo2KAudIj",
        "colab": {
          "base_uri": "https://localhost:8080/"
        },
        "outputId": "c88d398b-1869-4e83-87f8-e923fca92593"
      },
      "execution_count": null,
      "outputs": [
        {
          "output_type": "stream",
          "name": "stdout",
          "text": [
            "--2025-05-21 14:34:26--  https://drive.google.com/uc?id=1eGAsTN1HBpJAkeVM57_C7ccp7hbgSz3_\n",
            "Resolving drive.google.com (drive.google.com)... 173.194.194.139, 173.194.194.138, 173.194.194.102, ...\n",
            "Connecting to drive.google.com (drive.google.com)|173.194.194.139|:443... connected.\n",
            "HTTP request sent, awaiting response... 303 See Other\n",
            "Location: https://drive.usercontent.google.com/download?id=1eGAsTN1HBpJAkeVM57_C7ccp7hbgSz3_ [following]\n",
            "--2025-05-21 14:34:26--  https://drive.usercontent.google.com/download?id=1eGAsTN1HBpJAkeVM57_C7ccp7hbgSz3_\n",
            "Resolving drive.usercontent.google.com (drive.usercontent.google.com)... 64.233.181.132, 2607:f8b0:4001:c09::84\n",
            "Connecting to drive.usercontent.google.com (drive.usercontent.google.com)|64.233.181.132|:443... connected.\n",
            "HTTP request sent, awaiting response... 200 OK\n",
            "Length: 20659344 (20M) [application/octet-stream]\n",
            "Saving to: ‘taipei_sans_tc_beta.ttf’\n",
            "\n",
            "taipei_sans_tc_beta 100%[===================>]  19.70M  56.9MB/s    in 0.3s    \n",
            "\n",
            "2025-05-21 14:34:33 (56.9 MB/s) - ‘taipei_sans_tc_beta.ttf’ saved [20659344/20659344]\n",
            "\n"
          ]
        }
      ]
    },
    {
      "cell_type": "code",
      "source": [
        "import matplotlib.font_manager as fm\n",
        "font_path = \"taipei_sans_tc_beta.ttf\"\n",
        "fm.fontManager.addfont(font_path)\n",
        "\n",
        "#使用FontProperties明確設定字型\n",
        "custom_font = fm.FontProperties(fname=font_path)"
      ],
      "metadata": {
        "id": "X9wr0hM8zAm7"
      },
      "execution_count": null,
      "outputs": []
    },
    {
      "cell_type": "code",
      "source": [
        "import matplotlib.pyplot as plt\n",
        "\n",
        "#設定為matplotlib默認字體\n",
        "plt.rcParams['font.sans-serif'] = ['DejaVu Sans']\n"
      ],
      "metadata": {
        "id": "V7jBlAfEzCkE"
      },
      "execution_count": null,
      "outputs": []
    },
    {
      "cell_type": "code",
      "source": [
        "#測試\n",
        "import seaborn as sns\n",
        "\n",
        "ax = sns.boxplot(x=\"Industry\", y=\"ESG_Overall\", data=Company_ESG)\n",
        "ax.set_title(\"產業別 ESG 總分盒形圖\", fontproperties=custom_font)\n",
        "ax.set_xlabel(\"產業\", fontproperties=custom_font)\n",
        "ax.set_ylabel(\"ESG 總分\", fontproperties=custom_font)\n",
        "plt.xticks(rotation=45, fontproperties=custom_font)\n",
        "plt.yticks(fontproperties=custom_font)\n",
        "plt.show()"
      ],
      "metadata": {
        "id": "DNE6jn6OzEnE",
        "colab": {
          "base_uri": "https://localhost:8080/",
          "height": 543
        },
        "outputId": "0613df02-bea3-4e78-c478-d25e342695be"
      },
      "execution_count": null,
      "outputs": [
        {
          "output_type": "display_data",
          "data": {
            "text/plain": [
              "<Figure size 640x480 with 1 Axes>"
            ],
            "image/png": "[encoded data removed]"
          },
          "metadata": {}
        }
      ]
    },
    {
      "cell_type": "code",
      "source": [
        "import matplotlib.pyplot as plt\n",
        "plt.rcParams['font.sans-serif'] = ['Taipei Sans TC Beta']"
      ],
      "metadata": {
        "id": "l0rPv9cORSKW"
      },
      "execution_count": null,
      "outputs": []
    },
    {
      "cell_type": "markdown",
      "source": [
        "1. ESG_Environmental 的直方圖"
      ],
      "metadata": {
        "id": "T_Webm0YuxXb"
      }
    },
    {
      "cell_type": "code",
      "source": [
        "import seaborn as sns\n",
        "import matplotlib.pyplot as plt\n",
        "\n",
        "plt.figure(figsize=(8, 6))\n",
        "sns.histplot(Company_ESG[\"ESG_Environmental\"], kde=True, color=\"skyblue\", bins=20)\n",
        "plt.title(\"ESG Environmental 直方圖\", fontproperties=custom_font)\n",
        "plt.xlabel(\"ESG Environmental\", fontproperties=custom_font)\n",
        "plt.ylabel(\"頻數\", fontproperties=custom_font)\n",
        "plt.show()\n"
      ],
      "metadata": {
        "id": "NpIDA-SduthN",
        "colab": {
          "base_uri": "https://localhost:8080/",
          "height": 561
        },
        "outputId": "b57553db-dbda-4672-c847-58631a4e7a80"
      },
      "execution_count": null,
      "outputs": [
        {
          "output_type": "display_data",
          "data": {
            "text/plain": [
              "<Figure size 800x600 with 1 Axes>"
            ],
            "image/png": "[encoded data removed]"
          },
          "metadata": {}
        }
      ]
    },
    {
      "cell_type": "markdown",
      "source": [
        "2. 以「Industry」為分組依據，ESG_Overall 的盒形圖"
      ],
      "metadata": {
        "id": "6VtADW4cu4oU"
      }
    },
    {
      "cell_type": "code",
      "source": [
        "plt.figure(figsize=(8, 6))\n",
        "ax = sns.boxplot(x=\"Industry\", y=\"ESG_Overall\", data=Company_ESG)\n",
        "ax.set_title(\"產業別 ESG 總分盒形圖\", fontproperties=custom_font)\n",
        "ax.set_xlabel(\"產業\", fontproperties=custom_font)\n",
        "ax.set_ylabel(\"ESG 總分\", fontproperties=custom_font)\n",
        "plt.xticks(rotation=45, fontproperties=custom_font)\n",
        "plt.yticks(fontproperties=custom_font)\n",
        "plt.show()\n"
      ],
      "metadata": {
        "id": "_4hMNoKtu4_U",
        "colab": {
          "base_uri": "https://localhost:8080/",
          "height": 636
        },
        "outputId": "07f558cc-51f4-4c26-dca1-32c0d26634c0"
      },
      "execution_count": null,
      "outputs": [
        {
          "output_type": "display_data",
          "data": {
            "text/plain": [
              "<Figure size 800x600 with 1 Axes>"
            ],
            "image/png": "[encoded data removed]"
          },
          "metadata": {}
        }
      ]
    },
    {
      "cell_type": "markdown",
      "source": [
        "3. 以「ESG成績分組」資料筆數的圓餅圖"
      ],
      "metadata": {
        "id": "cJm-jLTOvFy1"
      }
    },
    {
      "cell_type": "code",
      "source": [
        "group_counts = Company_ESG[\"ESG成績分組\"].value_counts()\n",
        "\n",
        "group_counts.plot.pie(\n",
        "    autopct=\"%.1f%%\",\n",
        "    figsize=(6, 6),\n",
        "    title=\"ESG 成績分組比例\",\n",
        "    fontsize=12\n",
        ")\n",
        "plt.title(\"ESG 成績分組圓餅圖\", fontproperties=custom_font)\n",
        "plt.ylabel(\"\")\n",
        "plt.show()\n"
      ],
      "metadata": {
        "id": "u6d56w35vHe9",
        "colab": {
          "base_uri": "https://localhost:8080/",
          "height": 518
        },
        "outputId": "0a4344af-6566-4080-d900-d0503368bf34"
      },
      "execution_count": null,
      "outputs": [
        {
          "output_type": "display_data",
          "data": {
            "text/plain": [
              "<Figure size 600x600 with 1 Axes>"
            ],
            "image/png": "[encoded data removed]"
          },
          "metadata": {}
        }
      ]
    },
    {
      "cell_type": "markdown",
      "source": [
        "4. 「Revenue」及「EnergyConsumption」兩變數的散佈圖"
      ],
      "metadata": {
        "id": "39l6Kp3cvQq8"
      }
    },
    {
      "cell_type": "code",
      "source": [
        "Company_ESG.plot.scatter(\n",
        "    x=\"Revenue\",\n",
        "    y=\"EnergyConsumption\",\n",
        "    color=\"teal\",\n",
        "    figsize=(6, 4)\n",
        ")\n",
        "plt.title(\"Revenue 與 EnergyConsumption 的散佈圖\", fontproperties=custom_font)\n",
        "plt.xlabel(\"Revenue\", fontproperties=custom_font)\n",
        "plt.ylabel(\"EnergyConsumption\", fontproperties=custom_font)\n",
        "plt.grid(True)\n",
        "plt.show()\n"
      ],
      "metadata": {
        "id": "BfsNpzyBvRbd",
        "colab": {
          "base_uri": "https://localhost:8080/",
          "height": 408
        },
        "outputId": "6afab333-f088-437b-8f3d-39a053abbe80"
      },
      "execution_count": null,
      "outputs": [
        {
          "output_type": "display_data",
          "data": {
            "text/plain": [
              "<Figure size 600x400 with 1 Axes>"
            ],
            "image/png": "[encoded data removed]"
          },
          "metadata": {}
        }
      ]
    }
  ]
}